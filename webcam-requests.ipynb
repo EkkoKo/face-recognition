{
 "cells": [
  {
   "cell_type": "code",
   "execution_count": null,
   "id": "cd1a9dcd-f6a8-4ce9-9a9c-d4a57650492d",
   "metadata": {},
   "outputs": [],
   "source": [
    "name = ''"
   ]
  },
  {
   "cell_type": "code",
   "execution_count": null,
   "id": "95dc4973-c837-4892-be45-f4331376f8db",
   "metadata": {},
   "outputs": [],
   "source": [
    "# program to capture single image from webcam in python\n",
    "  \n",
    "# importing OpenCV library\n",
    "import cv2\n",
    "  \n",
    "# initialize the camera\n",
    "# If you have multiple camera connected with \n",
    "# current device, assign a value in cam_port \n",
    "# variable according to that\n",
    "cam_port = 0\n",
    "cam = cv2.VideoCapture(cam_port)\n",
    "  \n",
    "# reading the input using the camera\n",
    "result, image = cam.read()\n",
    "  \n",
    "# If image will detected without any error, \n",
    "# show result\n",
    "if result:\n",
    "  \n",
    "    # showing result, it take frame name and image \n",
    "    # output\n",
    "    cv2.imshow(\"Camera\", image)\n",
    "  \n",
    "    # saving image in local storage\n",
    "    cv2.imwrite(\"camera_shots/\"+name+\".jpg\", image)\n",
    "  \n",
    "    # If keyboard interrupt occurs, destroy image \n",
    "    # window\n",
    "    cv2.waitKey(0)\n",
    "    cv2.destroyWindow(\"Camera\")\n",
    "  \n",
    "# If captured image is corrupted, moving to else part\n",
    "else:\n",
    "    print(\"No image detected. Please! try again\")"
   ]
  },
  {
   "cell_type": "code",
   "execution_count": null,
   "id": "90ebaefa-5c38-473b-80f2-51e5b0fafe27",
   "metadata": {},
   "outputs": [],
   "source": [
    "import requests\n",
    "import json\n",
    "\n",
    "files   = [\n",
    "        ('json', ('payload.json', json.dumps({\"name\": name}), 'application/json')),\n",
    "        ('image', (\"camera_shots/\"+name+\".jpg\", open(\"camera_shots/\"+name+\".jpg\", 'rb')))\n",
    "      ]\n",
    "resp = requests.post(\"http://localhost:5000/add_face\", files=files)\n",
    "\n",
    "print(resp.text)"
   ]
  },
  {
   "cell_type": "code",
   "execution_count": null,
   "id": "9a1d74bb-3483-452a-8180-16b85c368190",
   "metadata": {},
   "outputs": [],
   "source": [
    "cam_port = 0\n",
    "cam = cv2.VideoCapture(cam_port)\n",
    "  \n",
    "result, image = cam.read()\n",
    "\n",
    "if result:\n",
    "  \n",
    "    cv2.imshow(\"Camera\", image)\n",
    "  \n",
    "    cv2.imwrite(\"camera_shots/test-photo.jpg\", image)\n",
    "  \n",
    "    cv2.waitKey(0)\n",
    "    cv2.destroyWindow(\"Camera\")\n",
    "  \n",
    "# If captured image is corrupted, moving to else part\n",
    "else:\n",
    "    print(\"No image detected. Please! try again\")"
   ]
  },
  {
   "cell_type": "code",
   "execution_count": null,
   "id": "4cf85781-2c7b-421f-9a62-7a7fdb0b63c5",
   "metadata": {},
   "outputs": [],
   "source": [
    "from PIL import Image, ImageDraw\n",
    "\n",
    "pil_image =  Image.open(\"camera_shots/test-photo.jpg\")\n",
    "# Create a Pillow ImageDraw Draw instance to draw with\n",
    "draw = ImageDraw.Draw(pil_image)\n",
    "\n",
    "files   = [\n",
    "        ('image', (\"camera_shots/test-photo.jpg\", open(\"camera_shots/test-photo.jpg\", 'rb')))\n",
    "      ]\n",
    "resp = requests.get(\"http://localhost:5000/detect_faces\", files=files)\n",
    "results = resp.json()\n",
    "\n",
    "for face in results:\n",
    "    name = face['name']\n",
    "    top = face['location'][0]\n",
    "    right = face['location'][1]\n",
    "    bottom = face['location'][2]\n",
    "    left = face['location'][3]\n",
    "\n",
    "    draw.rectangle(((left, top), (right, bottom)), outline=(0, 0, 255))\n",
    "\n",
    "    # Draw a label with a name below the face\n",
    "    text_width, text_height = draw.textsize(name)\n",
    "    draw.rectangle(((left, bottom - text_height - 10), (right, bottom)), fill=(0, 0, 255), outline=(0, 0, 255))\n",
    "    draw.text((left + 6, bottom - text_height - 5), name, fill=(255, 255, 255, 255))\n",
    "\n",
    "\n",
    "# Remove the drawing library from memory as per the Pillow docs\n",
    "del draw\n",
    "\n",
    "# Display the resulting image\n",
    "display(pil_image)"
   ]
  },
  {
   "cell_type": "code",
   "execution_count": null,
   "id": "8dc7f01b-64f8-4570-bf6a-5bce0fd7e386",
   "metadata": {},
   "outputs": [],
   "source": []
  },
  {
   "cell_type": "code",
   "execution_count": null,
   "id": "aa55556d-d8d6-403f-a2a2-c25c353cf9ce",
   "metadata": {},
   "outputs": [],
   "source": []
  }
 ],
 "metadata": {
  "kernelspec": {
   "display_name": "Python 3 (ipykernel)",
   "language": "python",
   "name": "python3"
  },
  "language_info": {
   "codemirror_mode": {
    "name": "ipython",
    "version": 3
   },
   "file_extension": ".py",
   "mimetype": "text/x-python",
   "name": "python",
   "nbconvert_exporter": "python",
   "pygments_lexer": "ipython3",
   "version": "3.10.4"
  }
 },
 "nbformat": 4,
 "nbformat_minor": 5
}
